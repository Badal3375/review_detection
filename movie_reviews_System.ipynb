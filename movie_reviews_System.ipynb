{
  "cells": [
    {
      "cell_type": "markdown",
      "source": [
        "# ***Movie Reviews detection ***"
      ],
      "metadata": {
        "id": "o5T3fXuwsQR4"
      }
    },
    {
      "cell_type": "code",
      "source": [
        "import numpy as np\n",
        "import pandas as pd\n",
        "import matplotlib.pyplot as plt\n",
        "import seaborn as sns"
      ],
      "metadata": {
        "id": "01pmJsjIsPiE"
      },
      "execution_count": null,
      "outputs": []
    },
    {
      "cell_type": "code",
      "source": [
        "df=pd.read_csv('/content/Book1.csv')"
      ],
      "metadata": {
        "id": "5NDZDkg_sZf6"
      },
      "execution_count": null,
      "outputs": []
    },
    {
      "cell_type": "code",
      "source": [
        "df"
      ],
      "metadata": {
        "colab": {
          "base_uri": "https://localhost:8080/",
          "height": 423
        },
        "id": "XwTMzGB1sqle",
        "outputId": "84954666-2e95-4bb2-d2ca-dacbd7ca9e81"
      },
      "execution_count": null,
      "outputs": [
        {
          "output_type": "execute_result",
          "data": {
            "text/plain": [
              "                                                  review sentiment\n",
              "0      One of the other reviewers has mentioned that ...  positive\n",
              "1      A wonderful little production. <br /><br />The...  positive\n",
              "2      I thought this was a wonderful way to spend ti...  positive\n",
              "3      Basically there's a family where a little boy ...  negative\n",
              "4      Petter Mattei's \"Love in the Time of Money\" is...  positive\n",
              "...                                                  ...       ...\n",
              "10017  The story is incredible, it begins with a new ...  positive\n",
              "10018  Ted Danson was a great choice to play Gulliver...  positive\n",
              "10019  *Possible Spoilers* Although done before (and ...  positive\n",
              "10020  Although i watched this film by myself(thankfu...  negative\n",
              "10021  Did anyone else feel as betrayed as I did? The...  negative\n",
              "\n",
              "[10022 rows x 2 columns]"
            ],
            "text/html": [
              "\n",
              "  <div id=\"df-9240b018-1464-4a32-9ca1-2c8b02d374a9\" class=\"colab-df-container\">\n",
              "    <div>\n",
              "<style scoped>\n",
              "    .dataframe tbody tr th:only-of-type {\n",
              "        vertical-align: middle;\n",
              "    }\n",
              "\n",
              "    .dataframe tbody tr th {\n",
              "        vertical-align: top;\n",
              "    }\n",
              "\n",
              "    .dataframe thead th {\n",
              "        text-align: right;\n",
              "    }\n",
              "</style>\n",
              "<table border=\"1\" class=\"dataframe\">\n",
              "  <thead>\n",
              "    <tr style=\"text-align: right;\">\n",
              "      <th></th>\n",
              "      <th>review</th>\n",
              "      <th>sentiment</th>\n",
              "    </tr>\n",
              "  </thead>\n",
              "  <tbody>\n",
              "    <tr>\n",
              "      <th>0</th>\n",
              "      <td>One of the other reviewers has mentioned that ...</td>\n",
              "      <td>positive</td>\n",
              "    </tr>\n",
              "    <tr>\n",
              "      <th>1</th>\n",
              "      <td>A wonderful little production. &lt;br /&gt;&lt;br /&gt;The...</td>\n",
              "      <td>positive</td>\n",
              "    </tr>\n",
              "    <tr>\n",
              "      <th>2</th>\n",
              "      <td>I thought this was a wonderful way to spend ti...</td>\n",
              "      <td>positive</td>\n",
              "    </tr>\n",
              "    <tr>\n",
              "      <th>3</th>\n",
              "      <td>Basically there's a family where a little boy ...</td>\n",
              "      <td>negative</td>\n",
              "    </tr>\n",
              "    <tr>\n",
              "      <th>4</th>\n",
              "      <td>Petter Mattei's \"Love in the Time of Money\" is...</td>\n",
              "      <td>positive</td>\n",
              "    </tr>\n",
              "    <tr>\n",
              "      <th>...</th>\n",
              "      <td>...</td>\n",
              "      <td>...</td>\n",
              "    </tr>\n",
              "    <tr>\n",
              "      <th>10017</th>\n",
              "      <td>The story is incredible, it begins with a new ...</td>\n",
              "      <td>positive</td>\n",
              "    </tr>\n",
              "    <tr>\n",
              "      <th>10018</th>\n",
              "      <td>Ted Danson was a great choice to play Gulliver...</td>\n",
              "      <td>positive</td>\n",
              "    </tr>\n",
              "    <tr>\n",
              "      <th>10019</th>\n",
              "      <td>*Possible Spoilers* Although done before (and ...</td>\n",
              "      <td>positive</td>\n",
              "    </tr>\n",
              "    <tr>\n",
              "      <th>10020</th>\n",
              "      <td>Although i watched this film by myself(thankfu...</td>\n",
              "      <td>negative</td>\n",
              "    </tr>\n",
              "    <tr>\n",
              "      <th>10021</th>\n",
              "      <td>Did anyone else feel as betrayed as I did? The...</td>\n",
              "      <td>negative</td>\n",
              "    </tr>\n",
              "  </tbody>\n",
              "</table>\n",
              "<p>10022 rows × 2 columns</p>\n",
              "</div>\n",
              "    <div class=\"colab-df-buttons\">\n",
              "\n",
              "  <div class=\"colab-df-container\">\n",
              "    <button class=\"colab-df-convert\" onclick=\"convertToInteractive('df-9240b018-1464-4a32-9ca1-2c8b02d374a9')\"\n",
              "            title=\"Convert this dataframe to an interactive table.\"\n",
              "            style=\"display:none;\">\n",
              "\n",
              "  <svg xmlns=\"http://www.w3.org/2000/svg\" height=\"24px\" viewBox=\"0 -960 960 960\">\n",
              "    <path d=\"M120-120v-720h720v720H120Zm60-500h600v-160H180v160Zm220 220h160v-160H400v160Zm0 220h160v-160H400v160ZM180-400h160v-160H180v160Zm440 0h160v-160H620v160ZM180-180h160v-160H180v160Zm440 0h160v-160H620v160Z\"/>\n",
              "  </svg>\n",
              "    </button>\n",
              "\n",
              "  <style>\n",
              "    .colab-df-container {\n",
              "      display:flex;\n",
              "      gap: 12px;\n",
              "    }\n",
              "\n",
              "    .colab-df-convert {\n",
              "      background-color: #E8F0FE;\n",
              "      border: none;\n",
              "      border-radius: 50%;\n",
              "      cursor: pointer;\n",
              "      display: none;\n",
              "      fill: #1967D2;\n",
              "      height: 32px;\n",
              "      padding: 0 0 0 0;\n",
              "      width: 32px;\n",
              "    }\n",
              "\n",
              "    .colab-df-convert:hover {\n",
              "      background-color: #E2EBFA;\n",
              "      box-shadow: 0px 1px 2px rgba(60, 64, 67, 0.3), 0px 1px 3px 1px rgba(60, 64, 67, 0.15);\n",
              "      fill: #174EA6;\n",
              "    }\n",
              "\n",
              "    .colab-df-buttons div {\n",
              "      margin-bottom: 4px;\n",
              "    }\n",
              "\n",
              "    [theme=dark] .colab-df-convert {\n",
              "      background-color: #3B4455;\n",
              "      fill: #D2E3FC;\n",
              "    }\n",
              "\n",
              "    [theme=dark] .colab-df-convert:hover {\n",
              "      background-color: #434B5C;\n",
              "      box-shadow: 0px 1px 3px 1px rgba(0, 0, 0, 0.15);\n",
              "      filter: drop-shadow(0px 1px 2px rgba(0, 0, 0, 0.3));\n",
              "      fill: #FFFFFF;\n",
              "    }\n",
              "  </style>\n",
              "\n",
              "    <script>\n",
              "      const buttonEl =\n",
              "        document.querySelector('#df-9240b018-1464-4a32-9ca1-2c8b02d374a9 button.colab-df-convert');\n",
              "      buttonEl.style.display =\n",
              "        google.colab.kernel.accessAllowed ? 'block' : 'none';\n",
              "\n",
              "      async function convertToInteractive(key) {\n",
              "        const element = document.querySelector('#df-9240b018-1464-4a32-9ca1-2c8b02d374a9');\n",
              "        const dataTable =\n",
              "          await google.colab.kernel.invokeFunction('convertToInteractive',\n",
              "                                                    [key], {});\n",
              "        if (!dataTable) return;\n",
              "\n",
              "        const docLinkHtml = 'Like what you see? Visit the ' +\n",
              "          '<a target=\"_blank\" href=https://colab.research.google.com/notebooks/data_table.ipynb>data table notebook</a>'\n",
              "          + ' to learn more about interactive tables.';\n",
              "        element.innerHTML = '';\n",
              "        dataTable['output_type'] = 'display_data';\n",
              "        await google.colab.output.renderOutput(dataTable, element);\n",
              "        const docLink = document.createElement('div');\n",
              "        docLink.innerHTML = docLinkHtml;\n",
              "        element.appendChild(docLink);\n",
              "      }\n",
              "    </script>\n",
              "  </div>\n",
              "\n",
              "\n",
              "    <div id=\"df-e7b4734a-a40d-4078-88b7-faed78eb28f4\">\n",
              "      <button class=\"colab-df-quickchart\" onclick=\"quickchart('df-e7b4734a-a40d-4078-88b7-faed78eb28f4')\"\n",
              "                title=\"Suggest charts\"\n",
              "                style=\"display:none;\">\n",
              "\n",
              "<svg xmlns=\"http://www.w3.org/2000/svg\" height=\"24px\"viewBox=\"0 0 24 24\"\n",
              "     width=\"24px\">\n",
              "    <g>\n",
              "        <path d=\"M19 3H5c-1.1 0-2 .9-2 2v14c0 1.1.9 2 2 2h14c1.1 0 2-.9 2-2V5c0-1.1-.9-2-2-2zM9 17H7v-7h2v7zm4 0h-2V7h2v10zm4 0h-2v-4h2v4z\"/>\n",
              "    </g>\n",
              "</svg>\n",
              "      </button>\n",
              "\n",
              "<style>\n",
              "  .colab-df-quickchart {\n",
              "      --bg-color: #E8F0FE;\n",
              "      --fill-color: #1967D2;\n",
              "      --hover-bg-color: #E2EBFA;\n",
              "      --hover-fill-color: #174EA6;\n",
              "      --disabled-fill-color: #AAA;\n",
              "      --disabled-bg-color: #DDD;\n",
              "  }\n",
              "\n",
              "  [theme=dark] .colab-df-quickchart {\n",
              "      --bg-color: #3B4455;\n",
              "      --fill-color: #D2E3FC;\n",
              "      --hover-bg-color: #434B5C;\n",
              "      --hover-fill-color: #FFFFFF;\n",
              "      --disabled-bg-color: #3B4455;\n",
              "      --disabled-fill-color: #666;\n",
              "  }\n",
              "\n",
              "  .colab-df-quickchart {\n",
              "    background-color: var(--bg-color);\n",
              "    border: none;\n",
              "    border-radius: 50%;\n",
              "    cursor: pointer;\n",
              "    display: none;\n",
              "    fill: var(--fill-color);\n",
              "    height: 32px;\n",
              "    padding: 0;\n",
              "    width: 32px;\n",
              "  }\n",
              "\n",
              "  .colab-df-quickchart:hover {\n",
              "    background-color: var(--hover-bg-color);\n",
              "    box-shadow: 0 1px 2px rgba(60, 64, 67, 0.3), 0 1px 3px 1px rgba(60, 64, 67, 0.15);\n",
              "    fill: var(--button-hover-fill-color);\n",
              "  }\n",
              "\n",
              "  .colab-df-quickchart-complete:disabled,\n",
              "  .colab-df-quickchart-complete:disabled:hover {\n",
              "    background-color: var(--disabled-bg-color);\n",
              "    fill: var(--disabled-fill-color);\n",
              "    box-shadow: none;\n",
              "  }\n",
              "\n",
              "  .colab-df-spinner {\n",
              "    border: 2px solid var(--fill-color);\n",
              "    border-color: transparent;\n",
              "    border-bottom-color: var(--fill-color);\n",
              "    animation:\n",
              "      spin 1s steps(1) infinite;\n",
              "  }\n",
              "\n",
              "  @keyframes spin {\n",
              "    0% {\n",
              "      border-color: transparent;\n",
              "      border-bottom-color: var(--fill-color);\n",
              "      border-left-color: var(--fill-color);\n",
              "    }\n",
              "    20% {\n",
              "      border-color: transparent;\n",
              "      border-left-color: var(--fill-color);\n",
              "      border-top-color: var(--fill-color);\n",
              "    }\n",
              "    30% {\n",
              "      border-color: transparent;\n",
              "      border-left-color: var(--fill-color);\n",
              "      border-top-color: var(--fill-color);\n",
              "      border-right-color: var(--fill-color);\n",
              "    }\n",
              "    40% {\n",
              "      border-color: transparent;\n",
              "      border-right-color: var(--fill-color);\n",
              "      border-top-color: var(--fill-color);\n",
              "    }\n",
              "    60% {\n",
              "      border-color: transparent;\n",
              "      border-right-color: var(--fill-color);\n",
              "    }\n",
              "    80% {\n",
              "      border-color: transparent;\n",
              "      border-right-color: var(--fill-color);\n",
              "      border-bottom-color: var(--fill-color);\n",
              "    }\n",
              "    90% {\n",
              "      border-color: transparent;\n",
              "      border-bottom-color: var(--fill-color);\n",
              "    }\n",
              "  }\n",
              "</style>\n",
              "\n",
              "      <script>\n",
              "        async function quickchart(key) {\n",
              "          const quickchartButtonEl =\n",
              "            document.querySelector('#' + key + ' button');\n",
              "          quickchartButtonEl.disabled = true;  // To prevent multiple clicks.\n",
              "          quickchartButtonEl.classList.add('colab-df-spinner');\n",
              "          try {\n",
              "            const charts = await google.colab.kernel.invokeFunction(\n",
              "                'suggestCharts', [key], {});\n",
              "          } catch (error) {\n",
              "            console.error('Error during call to suggestCharts:', error);\n",
              "          }\n",
              "          quickchartButtonEl.classList.remove('colab-df-spinner');\n",
              "          quickchartButtonEl.classList.add('colab-df-quickchart-complete');\n",
              "        }\n",
              "        (() => {\n",
              "          let quickchartButtonEl =\n",
              "            document.querySelector('#df-e7b4734a-a40d-4078-88b7-faed78eb28f4 button');\n",
              "          quickchartButtonEl.style.display =\n",
              "            google.colab.kernel.accessAllowed ? 'block' : 'none';\n",
              "        })();\n",
              "      </script>\n",
              "    </div>\n",
              "\n",
              "  <div id=\"id_33a2d150-0329-4c6e-885f-71991596ff4b\">\n",
              "    <style>\n",
              "      .colab-df-generate {\n",
              "        background-color: #E8F0FE;\n",
              "        border: none;\n",
              "        border-radius: 50%;\n",
              "        cursor: pointer;\n",
              "        display: none;\n",
              "        fill: #1967D2;\n",
              "        height: 32px;\n",
              "        padding: 0 0 0 0;\n",
              "        width: 32px;\n",
              "      }\n",
              "\n",
              "      .colab-df-generate:hover {\n",
              "        background-color: #E2EBFA;\n",
              "        box-shadow: 0px 1px 2px rgba(60, 64, 67, 0.3), 0px 1px 3px 1px rgba(60, 64, 67, 0.15);\n",
              "        fill: #174EA6;\n",
              "      }\n",
              "\n",
              "      [theme=dark] .colab-df-generate {\n",
              "        background-color: #3B4455;\n",
              "        fill: #D2E3FC;\n",
              "      }\n",
              "\n",
              "      [theme=dark] .colab-df-generate:hover {\n",
              "        background-color: #434B5C;\n",
              "        box-shadow: 0px 1px 3px 1px rgba(0, 0, 0, 0.15);\n",
              "        filter: drop-shadow(0px 1px 2px rgba(0, 0, 0, 0.3));\n",
              "        fill: #FFFFFF;\n",
              "      }\n",
              "    </style>\n",
              "    <button class=\"colab-df-generate\" onclick=\"generateWithVariable('df')\"\n",
              "            title=\"Generate code using this dataframe.\"\n",
              "            style=\"display:none;\">\n",
              "\n",
              "  <svg xmlns=\"http://www.w3.org/2000/svg\" height=\"24px\"viewBox=\"0 0 24 24\"\n",
              "       width=\"24px\">\n",
              "    <path d=\"M7,19H8.4L18.45,9,17,7.55,7,17.6ZM5,21V16.75L18.45,3.32a2,2,0,0,1,2.83,0l1.4,1.43a1.91,1.91,0,0,1,.58,1.4,1.91,1.91,0,0,1-.58,1.4L9.25,21ZM18.45,9,17,7.55Zm-12,3A5.31,5.31,0,0,0,4.9,8.1,5.31,5.31,0,0,0,1,6.5,5.31,5.31,0,0,0,4.9,4.9,5.31,5.31,0,0,0,6.5,1,5.31,5.31,0,0,0,8.1,4.9,5.31,5.31,0,0,0,12,6.5,5.46,5.46,0,0,0,6.5,12Z\"/>\n",
              "  </svg>\n",
              "    </button>\n",
              "    <script>\n",
              "      (() => {\n",
              "      const buttonEl =\n",
              "        document.querySelector('#id_33a2d150-0329-4c6e-885f-71991596ff4b button.colab-df-generate');\n",
              "      buttonEl.style.display =\n",
              "        google.colab.kernel.accessAllowed ? 'block' : 'none';\n",
              "\n",
              "      buttonEl.onclick = () => {\n",
              "        google.colab.notebook.generateWithVariable('df');\n",
              "      }\n",
              "      })();\n",
              "    </script>\n",
              "  </div>\n",
              "\n",
              "    </div>\n",
              "  </div>\n"
            ],
            "application/vnd.google.colaboratory.intrinsic+json": {
              "type": "dataframe",
              "variable_name": "df",
              "summary": "{\n  \"name\": \"df\",\n  \"rows\": 10022,\n  \"fields\": [\n    {\n      \"column\": \"review\",\n      \"properties\": {\n        \"dtype\": \"string\",\n        \"num_unique_values\": 10005,\n        \"samples\": [\n          \"You know how sometimes you can watch a crappy movie with friends and laugh at all the shortcomings of the movie? Well this was beyond that. I bought the DVD at Tower Records because it was like $3.00 and I'd heard this was a movie you could laugh at. It is really nothing short of pathetic. About 30 minutes into the movie, my friends started asking me to turn it off. Around 45 minutes they begged me. After an hour, we compromised to fast forward to the end, so we could see how the conflict was resolved (and because we had been watching the whole time for Matt Walsh). Seriously, don't watch this movie. It is beyond painful.\",\n          \"Kate is a jaded young woman who has trouble meeting and dating guys. Throughout the movie, you get to meet several of her loser boyfriends. And throughout the movie, you are subjected to Kate's cynical negative outlook on love and relationships. This negative viewpoint is continued throughout and presented as Ultimate Truth. I had a real problem with this. Why would anyone want to be taught about love, life, and dating from someone who is obviously so messed up? It would work if that was the joke, but it is not. For the jokes in the movie (which are neither funny nor original) to work at all, you have to believe what Kate is saying: that all relationships inevitably end up with bad or no sex, that the highest level a relationship can evolve to is when you are able to fart in front of your partner... You get the idea.<br /><br />There is no movie in recent memory that comes close to upsetting the stomach as much as Love & Sex. Why did the filmmakers waste their time on such trash? Every joke in Love & Sex is something that I have experienced in another movie or in my own life. There is NOTHING original or creative about the story, the production, or the style. It is cynical, dumb and pointless. Mind numbing!\",\n          \"So 'Thinner'... Yep.. This Steven Bachman (read Steven King) yarn about a man who gets his just desserts from a Gypsy Elder who he just killed, The story itself is there, no doubt about it, but I don't know why I didn't enjoy it more than I could have. I guess what really distracted me was the actors. I mean, who's the lead? Robert John Burke? Who's he? And fer crying out loud, can someone please stop hiring Joseph Mantegna for every Italian Mafioso role there ever is? And while we're at it, does every Mafioso have to have a pasta cooking Italian mother? The only good acting job done here is under 10 pounds of makeup, Michael Constantine as the Gypsy elder. He's pretty good. But the rest, I make you all, \\\"better actors...\\\"\"\n        ],\n        \"semantic_type\": \"\",\n        \"description\": \"\"\n      }\n    },\n    {\n      \"column\": \"sentiment\",\n      \"properties\": {\n        \"dtype\": \"category\",\n        \"num_unique_values\": 2,\n        \"samples\": [\n          \"negative\",\n          \"positive\"\n        ],\n        \"semantic_type\": \"\",\n        \"description\": \"\"\n      }\n    }\n  ]\n}"
            }
          },
          "metadata": {},
          "execution_count": 92
        }
      ]
    },
    {
      "cell_type": "markdown",
      "source": [
        "** Data preproessing\n",
        "  **"
      ],
      "metadata": {
        "id": "3hKz_3CaswIU"
      }
    },
    {
      "cell_type": "code",
      "source": [
        "df.info()"
      ],
      "metadata": {
        "colab": {
          "base_uri": "https://localhost:8080/"
        },
        "id": "Ya8SDGNssvU1",
        "outputId": "a7c24599-fe52-4bd4-8209-b5223b1a07c4"
      },
      "execution_count": null,
      "outputs": [
        {
          "output_type": "stream",
          "name": "stdout",
          "text": [
            "<class 'pandas.core.frame.DataFrame'>\n",
            "RangeIndex: 10022 entries, 0 to 10021\n",
            "Data columns (total 2 columns):\n",
            " #   Column     Non-Null Count  Dtype \n",
            "---  ------     --------------  ----- \n",
            " 0   review     10022 non-null  object\n",
            " 1   sentiment  10022 non-null  object\n",
            "dtypes: object(2)\n",
            "memory usage: 156.7+ KB\n"
          ]
        }
      ]
    },
    {
      "cell_type": "code",
      "source": [
        "df.isnull().sum()"
      ],
      "metadata": {
        "colab": {
          "base_uri": "https://localhost:8080/",
          "height": 146
        },
        "id": "WACWq97cs5Qw",
        "outputId": "09f7237d-7f08-4838-98bf-88d777b35016"
      },
      "execution_count": null,
      "outputs": [
        {
          "output_type": "execute_result",
          "data": {
            "text/plain": [
              "review       0\n",
              "sentiment    0\n",
              "dtype: int64"
            ],
            "text/html": [
              "<div>\n",
              "<style scoped>\n",
              "    .dataframe tbody tr th:only-of-type {\n",
              "        vertical-align: middle;\n",
              "    }\n",
              "\n",
              "    .dataframe tbody tr th {\n",
              "        vertical-align: top;\n",
              "    }\n",
              "\n",
              "    .dataframe thead th {\n",
              "        text-align: right;\n",
              "    }\n",
              "</style>\n",
              "<table border=\"1\" class=\"dataframe\">\n",
              "  <thead>\n",
              "    <tr style=\"text-align: right;\">\n",
              "      <th></th>\n",
              "      <th>0</th>\n",
              "    </tr>\n",
              "  </thead>\n",
              "  <tbody>\n",
              "    <tr>\n",
              "      <th>review</th>\n",
              "      <td>0</td>\n",
              "    </tr>\n",
              "    <tr>\n",
              "      <th>sentiment</th>\n",
              "      <td>0</td>\n",
              "    </tr>\n",
              "  </tbody>\n",
              "</table>\n",
              "</div><br><label><b>dtype:</b> int64</label>"
            ]
          },
          "metadata": {},
          "execution_count": 94
        }
      ]
    },
    {
      "cell_type": "code",
      "source": [
        "df.value_counts()"
      ],
      "metadata": {
        "colab": {
          "base_uri": "https://localhost:8080/",
          "height": 1000
        },
        "id": "4SBj2TWds8Td",
        "outputId": "c9a10922-cb89-4ef6-e77b-38a094f6ac07"
      },
      "execution_count": null,
      "outputs": [
        {
          "output_type": "execute_result",
          "data": {
            "text/plain": [
              "review                                                                                                                                                                                                                                                                                                                                                                                                                                                                                                                                                                                                                                                                                                                                                                                                                                                                                                                                                                                                                                                                                                                                                                                                                                                                                                                                                                                                                                                                                                                                                                                                                                                                                                                                                                                                                                                                                                                                                                                                                                                                                                                                                                                                                                                                                                                                                                                                sentiment\n",
              "There are plenty of comments already posted saying exactly how I felt about this film so Ill keep it short.<br /><br />\"The Grinch\" I thought was marvellous - Jim Carrey is a truly talented, physical comedian as well as being a versatile clever actor (in my opinion). Mike Myers on the other hand gets his laughs by being annoying. I used to like him very much in his \"Waynes World\" and \"So I Married an Axe Murderer\" days - but Ive never been fond of Austin Powers and \"the Cat In The Hat\" has just finished me off. <br /><br />This film was horrible - the gags were horrible! inappropriate for children not only in adult content but in the fact that some of them were so dated they havent amused anyone for 50 years! The plot was messy, messy, messy! Its a shame really because the children were very likeable as was \"Mom\". They probably could have picked a better villain than Alec Baldwin - but he could have pulled it off if it weren't for Myers ugly, revolting over-acted portrayal of the Cat.<br /><br />I mean - did Myers even glance at a script? Was one written? The other actors seemed to have one - but the Cat just seemed to be winging it!<br /><br />On the other hand I would like to mention that the sets and props were marvellous!!! But unfortunately they cant save this film.<br /><br />Poor Dr Seuss - the man was a genius! Dont ruin his reputation by adapting his work in a such a lazy, messy way!!!<br /><br />1/10                                                                                                                                                                                                                                                                                                                                                                                                                                                                                                                                                                                                                                                                                                                                                                                                                                                                                                             negative     2\n",
              "If you liked the Grinch movie... go watch that again, because this was no where near as good a Seussian movie translation. Mike Myers' Cat is probably the most annoying character to \"grace\" the screen in recent times. His voice/accent is terrible and he laughs at his own jokes with an awful weasing sound, which is about the only laughing I heard at the theater. Not even the kids liked this one folks, and kids laugh at anything now. Save your money and go see Looney Tunes: Back in Action if you're really looking for a fun holiday family movie.                                                                                                                                                                                                                                                                                                                                                                                                                                                                                                                                                                                                                                                                                                                                                                                                                                                                                                                                                                                                                                                                                                                                                                                                                                                                                                                                                                                                                                                                                                                                                                                                                                                                                                                                                                                                                                  negative     2\n",
              "Ik know it is impossible to keep all details of a book in a movie. But this movie has changed nearly everything without any reason. Furthermore many changes have made the story illogical. A few examples: 1) in the movie \"Paul Renauld\" really meets Poriot before he dies (in the book Poirot only gets a letter), telling him he is afraid to be killed. This is completely stupid because if Renaulds plan would have succeeded, Poirot would have known that the dead man would not have been Renauld.(Poirot was in the morgue when Mrs Renauld identified the victim). 2) The movie has \"combined\" two persons into one! \"Cinderella\" has been removed by the movie. The girl Hastings falls in love with and the ex-girlfriend of Jack Renauld are one person in the movie! Why for god's sake? 3)Hastings finds the victims cause he is such a bad golf player. Totally unfunny and stupid. 4) The movie tells secrets much too early (for example at the very beginning). So you know things you shouldn't know. 5) The murderer gets shot at the end by a person who doesn't exists in the book. Perhaps because the person (\"cinderella\") who stops the murderer does not exists in the movie. 6)The book is very complex. The movie takes only about 90 minutes. Sure it is difficult to include all the necessary details but it is impossible if you include stupid things which were not in the book and have no meaning (e.g. bicycle race).                                                                                                                                                                                                                                                                                                                                                                                                                                                                                                                                                                                                                                                                                                                                                                                                                                                                                                                                       negative     2\n",
              "Sigh. I'm baffled when I see a short like this get attention and assignments and whatnot. I saw this film at a festival before the filmmaker got any attention and forgot about it immediately afterwards. It was mildly annoying to see it swiping the Grinch Who Stole Christmas heart gag along with the narration, the set design seen many times before, the whole weak Tim Burton-ish style, and the story that goes nowhere. And we got the \"joke\" about shooting the crows with the 45 the first time, alright?<br /><br />But I guess what's really unacceptable is that it even swipes its basic concept from a comic book circa 1999 called LENORE, THE CUTE LITTLE DEAD GIRL by Roman Dirge! As any quick internet search will reveal. I mean, what is this? This is what they base a Hollywood contract on and opens doors in Canada for a filmmaker? \"Give your head a shake\" as Don Cherry might say.                                                                                                                                                                                                                                                                                                                                                                                                                                                                                                                                                                                                                                                                                                                                                                                                                                                                                                                                                                                                                                                                                                                                                                                                                                                                                                                                                                                                                                                                                  negative     2\n",
              "Quite what the producers of this appalling adaptation were trying to do is impossible to fathom.<br /><br />A group of top quality actors, in the main well cast (with a couple of notable exceptions), who give pretty good performances. Penelope Keith is perfect as Aunt Louise and equally good is Joanna Lumley as Diana. All do well with the scripts they were given.<br /><br />So much for the good. The average would include the sets. Nancherrow is nothing like the house described in the book, although bizarrely the house they use for the Dower House looks remarkably like it. It is clear then that the Dower House is far too big. In the later parts, the writers decided to bring the entire story back to the UK, presumably to save money, although with a little imagination I have no doubt they could have recreated Ceylon.<br /><br />Now to the bad. The screenplay. This is such an appallingly bad adaptation is hard to find words to condemn it. Edward does not die in the battle of Britain but survives, blinded. He makes a brief appearance then commits suicide - why?? Loveday has changed from the young woman totally in love with Gus to a sensible farmer's wife who can give up the love her life with barely a tear (less emotional than Brief Encounter). Gus, a man besotted and passionately in love, is prepared to give up his love without complaint. Walter (Mudge in the book) turns from a shallow unfaithful husband to a devoted family man. Jess is made into a psychologically disturbed young woman who won't speak. Aunt Biddy still has a drink problem but now without any justification. The Dower House is occupied by the army for no obvious reason other than a very short scene with Jess who has a fear of armed soldiers. Whilst Miss Mortimer's breasts are utterly delightful, I could not see how their display on several occasions moved the plot forward. The delightfully named Nettlebed becomes the mundane Dobson. The word limit prevents me from continuing the list.<br /><br />There is a sequel (which I lost all interest in watching after this nonsense) and I wonder if the changes were made to create the follow on story. It is difficult to image that Rosamunde Pilcher would have approved this grotesque perversion of her book; presumably she lost her control when the rights were purchased.  negative     2\n",
              "                                                                                                                                                                                                                                                                                                                                                                                                                                                                                                                                                                                                                                                                                                                                                                                                                                                                                                                                                                                                                                                                                                                                                                                                                                                                                                                                                                                                                                                                                                                                                                                                                                                                                                                                                                                                                                                                                                                                                                                                                                                                                                                                                                                                                                                                                                                                                                                                                  ..\n",
              "I just started watching The Show around July. I found it by mistake, I was channel surfing during a Vacation. It is a great show, I just wish it wasn't on so late at night. It's on at 12:30 AM. As a working person it makes it hard to watch all the time.<br /><br />I read some comments. I did not agree with the late one about not growing up in the 60's and not believing that this stuff can happen.<br /><br />I grew up in the 60's. I'm Hispanic and I had a \"White\" boyfriend plus we had black friends in High School. I believe people get along because of their interests and personalities and it has nothing to do with being a certain race or color.<br /><br />I can't wait till the show goes on DVD so I can buy it. This way I can see it from the beginning.                                                                                                                                                                                                                                                                                                                                                                                                                                                                                                                                                                                                                                                                                                                                                                                                                                                                                                                                                                                                                                                                                                                                                                                                                                                                                                                                                                                                                                                                                                                                                                                                              positive     1\n",
              "I just wanted to say that. I love Gheorghe Muresan, so I automatically loved this movie. Everything else about it was so-so... Billy Crystal is a good actor, even if he is annoying. But the thing that made this movie was- at least, for a basketball fan- seeing Gheorghe Muresan act.                                                                                                                                                                                                                                                                                                                                                                                                                                                                                                                                                                                                                                                                                                                                                                                                                                                                                                                                                                                                                                                                                                                                                                                                                                                                                                                                                                                                                                                                                                                                                                                                                                                                                                                                                                                                                                                                                                                                                                                                                                                                                                            positive     1\n",
              "I just wanted to write a quick response to all those people who give this film a bad review because they think it isn't funny or that it's boring. <br /><br />Here's the trick --- the film is not meant to be just a comedy. It's got some depth to it. Like many Demme films it deals with people living in some of the odd corners of our society who are trying to work out how to put together a fulfilling life for themselves. <br /><br />Unfortunately, the movie and home video industries don't deal well with subtlety and drop this in the \"COMEDY\" bin. It IS funny, but a lot of the humor is off-beat. However, the heart of the movie is not about the humor but about the people in it.<br /><br />It may not be one of the greatest films in the world but it is solid and entertaining. <br /><br />And the cast is one of those that shows why casting is an art unto itself. Michelle Pfieffer is great and this may be the film that showed she had some acting chops to add to her beauty. Mercedes Ruehl is a big hoot and gets to chew the scenery in the way only she can, in a role which requires it. Throw in Oliver Platt, Joan Cusack in smaller roles and the talented Dean Stockwell ... and even Chris Isaak and you've got a great cast throughout which here, as usual, makes a great difference.<br /><br />Matthew Modine is fun, but more important, he's a major hottie in this movie. Hot, cute and sexy.<br /><br />Sit back, expect the unexpected and let the movie take you where it wants to go and you should have a great time.                                                                                                                                                                                                                                                                                                                                                                                                                                                                                                                                                                                                                                                                                                                                                                                                                     positive     1\n",
              "I just watched The Convent for the second time. I had enjoyed it previously and figured it would make for a good drunken Friday night film, some gore, some style, bit of humour and suchlike. I was saddened to find that I could no longer appreciate it much. It seemed like someone had set out to revisit cheeseball epics like Night of the Demons for a modern audience but lost the things that made the original worthwhile. For the record I'm not even a huge fan of Night of the Demons, but there were some things I really dug about it. The Convent does the cheese but the not the goodness so much. Apart from the main girl (likeable performance from Joanna Canton), the goth girl and a sweet cameo from Adrienne Barbeau pretty much all the characters were excruciatingly unlikeable, festering at the absolute lowest levels of moronic, offensive jockhood. The film is then gravely hampered by the complete lack of gratuitous nudity which means that, given the awful dialogue, it is difficult to watch the characters and harder to appreciate the good points of the film. The evil nuns are original in design and get lots of good scenes, though not scary their certainly kinda cool, and the film also fields a fair amount of neat gore. Towards the end, when Adrienne Barbeau is on the scene the film becomes quite entertaining cause all the obnoxious people are dead and its an evil nun bashing frenzy. The stylised direction also occasionally yields good results, although sometimes the camera just moves too fast. All in all, this was a film where for me the shining good points just can't make up for the things I hated. Those more fond of this kind of film may well enjoy it a lot more, but for me it wasn't a good time.                                                                                                                                                                                                                                                                                                                                                                                                                                                                                                                                                                                                              negative     1\n",
              "I just saw this movie at the Tribeca Film Festival and i have to say that i thought it was amazing. The combination of humor and sincerity really made the movie worthwhile. The movie was about a seventeen year-old boy whose mother and father are very religious. The seventeen year old, Ben, decides to work for a retired actress who teaches him about girls and driving and life. It is very comical and touching. I honestly have to say that it is now one of my favorite movies. I recommend this movie to anyone and everyone. If you didn't catch one of the showings at the film festival, it's supposed to come out in theaters later in the year. Please go see it! It is a great film.                                                                                                                                                                                                                                                                                                                                                                                                                                                                                                                                                                                                                                                                                                                                                                                                                                                                                                                                                                                                                                                                                                                                                                                                                                                                                                                                                                                                                                                                                                                                                                                                                                                                                              positive     1\n",
              "Name: count, Length: 10005, dtype: int64"
            ],
            "text/html": [
              "<div>\n",
              "<style scoped>\n",
              "    .dataframe tbody tr th:only-of-type {\n",
              "        vertical-align: middle;\n",
              "    }\n",
              "\n",
              "    .dataframe tbody tr th {\n",
              "        vertical-align: top;\n",
              "    }\n",
              "\n",
              "    .dataframe thead th {\n",
              "        text-align: right;\n",
              "    }\n",
              "</style>\n",
              "<table border=\"1\" class=\"dataframe\">\n",
              "  <thead>\n",
              "    <tr style=\"text-align: right;\">\n",
              "      <th></th>\n",
              "      <th></th>\n",
              "      <th>count</th>\n",
              "    </tr>\n",
              "    <tr>\n",
              "      <th>review</th>\n",
              "      <th>sentiment</th>\n",
              "      <th></th>\n",
              "    </tr>\n",
              "  </thead>\n",
              "  <tbody>\n",
              "    <tr>\n",
              "      <th>There are plenty of comments already posted saying exactly how I felt about this film so Ill keep it short.&lt;br /&gt;&lt;br /&gt;\"The Grinch\" I thought was marvellous - Jim Carrey is a truly talented, physical comedian as well as being a versatile clever actor (in my opinion). Mike Myers on the other hand gets his laughs by being annoying. I used to like him very much in his \"Waynes World\" and \"So I Married an Axe Murderer\" days - but Ive never been fond of Austin Powers and \"the Cat In The Hat\" has just finished me off. &lt;br /&gt;&lt;br /&gt;This film was horrible - the gags were horrible! inappropriate for children not only in adult content but in the fact that some of them were so dated they havent amused anyone for 50 years! The plot was messy, messy, messy! Its a shame really because the children were very likeable as was \"Mom\". They probably could have picked a better villain than Alec Baldwin - but he could have pulled it off if it weren't for Myers ugly, revolting over-acted portrayal of the Cat.&lt;br /&gt;&lt;br /&gt;I mean - did Myers even glance at a script? Was one written? The other actors seemed to have one - but the Cat just seemed to be winging it!&lt;br /&gt;&lt;br /&gt;On the other hand I would like to mention that the sets and props were marvellous!!! But unfortunately they cant save this film.&lt;br /&gt;&lt;br /&gt;Poor Dr Seuss - the man was a genius! Dont ruin his reputation by adapting his work in a such a lazy, messy way!!!&lt;br /&gt;&lt;br /&gt;1/10</th>\n",
              "      <th>negative</th>\n",
              "      <td>2</td>\n",
              "    </tr>\n",
              "    <tr>\n",
              "      <th>If you liked the Grinch movie... go watch that again, because this was no where near as good a Seussian movie translation. Mike Myers' Cat is probably the most annoying character to \"grace\" the screen in recent times. His voice/accent is terrible and he laughs at his own jokes with an awful weasing sound, which is about the only laughing I heard at the theater. Not even the kids liked this one folks, and kids laugh at anything now. Save your money and go see Looney Tunes: Back in Action if you're really looking for a fun holiday family movie.</th>\n",
              "      <th>negative</th>\n",
              "      <td>2</td>\n",
              "    </tr>\n",
              "    <tr>\n",
              "      <th>Ik know it is impossible to keep all details of a book in a movie. But this movie has changed nearly everything without any reason. Furthermore many changes have made the story illogical. A few examples: 1) in the movie \"Paul Renauld\" really meets Poriot before he dies (in the book Poirot only gets a letter), telling him he is afraid to be killed. This is completely stupid because if Renaulds plan would have succeeded, Poirot would have known that the dead man would not have been Renauld.(Poirot was in the morgue when Mrs Renauld identified the victim). 2) The movie has \"combined\" two persons into one! \"Cinderella\" has been removed by the movie. The girl Hastings falls in love with and the ex-girlfriend of Jack Renauld are one person in the movie! Why for god's sake? 3)Hastings finds the victims cause he is such a bad golf player. Totally unfunny and stupid. 4) The movie tells secrets much too early (for example at the very beginning). So you know things you shouldn't know. 5) The murderer gets shot at the end by a person who doesn't exists in the book. Perhaps because the person (\"cinderella\") who stops the murderer does not exists in the movie. 6)The book is very complex. The movie takes only about 90 minutes. Sure it is difficult to include all the necessary details but it is impossible if you include stupid things which were not in the book and have no meaning (e.g. bicycle race).</th>\n",
              "      <th>negative</th>\n",
              "      <td>2</td>\n",
              "    </tr>\n",
              "    <tr>\n",
              "      <th>Sigh. I'm baffled when I see a short like this get attention and assignments and whatnot. I saw this film at a festival before the filmmaker got any attention and forgot about it immediately afterwards. It was mildly annoying to see it swiping the Grinch Who Stole Christmas heart gag along with the narration, the set design seen many times before, the whole weak Tim Burton-ish style, and the story that goes nowhere. And we got the \"joke\" about shooting the crows with the 45 the first time, alright?&lt;br /&gt;&lt;br /&gt;But I guess what's really unacceptable is that it even swipes its basic concept from a comic book circa 1999 called LENORE, THE CUTE LITTLE DEAD GIRL by Roman Dirge! As any quick internet search will reveal. I mean, what is this? This is what they base a Hollywood contract on and opens doors in Canada for a filmmaker? \"Give your head a shake\" as Don Cherry might say.</th>\n",
              "      <th>negative</th>\n",
              "      <td>2</td>\n",
              "    </tr>\n",
              "    <tr>\n",
              "      <th>Quite what the producers of this appalling adaptation were trying to do is impossible to fathom.&lt;br /&gt;&lt;br /&gt;A group of top quality actors, in the main well cast (with a couple of notable exceptions), who give pretty good performances. Penelope Keith is perfect as Aunt Louise and equally good is Joanna Lumley as Diana. All do well with the scripts they were given.&lt;br /&gt;&lt;br /&gt;So much for the good. The average would include the sets. Nancherrow is nothing like the house described in the book, although bizarrely the house they use for the Dower House looks remarkably like it. It is clear then that the Dower House is far too big. In the later parts, the writers decided to bring the entire story back to the UK, presumably to save money, although with a little imagination I have no doubt they could have recreated Ceylon.&lt;br /&gt;&lt;br /&gt;Now to the bad. The screenplay. This is such an appallingly bad adaptation is hard to find words to condemn it. Edward does not die in the battle of Britain but survives, blinded. He makes a brief appearance then commits suicide - why?? Loveday has changed from the young woman totally in love with Gus to a sensible farmer's wife who can give up the love her life with barely a tear (less emotional than Brief Encounter). Gus, a man besotted and passionately in love, is prepared to give up his love without complaint. Walter (Mudge in the book) turns from a shallow unfaithful husband to a devoted family man. Jess is made into a psychologically disturbed young woman who won't speak. Aunt Biddy still has a drink problem but now without any justification. The Dower House is occupied by the army for no obvious reason other than a very short scene with Jess who has a fear of armed soldiers. Whilst Miss Mortimer's breasts are utterly delightful, I could not see how their display on several occasions moved the plot forward. The delightfully named Nettlebed becomes the mundane Dobson. The word limit prevents me from continuing the list.&lt;br /&gt;&lt;br /&gt;There is a sequel (which I lost all interest in watching after this nonsense) and I wonder if the changes were made to create the follow on story. It is difficult to image that Rosamunde Pilcher would have approved this grotesque perversion of her book; presumably she lost her control when the rights were purchased.</th>\n",
              "      <th>negative</th>\n",
              "      <td>2</td>\n",
              "    </tr>\n",
              "    <tr>\n",
              "      <th>...</th>\n",
              "      <th>...</th>\n",
              "      <td>...</td>\n",
              "    </tr>\n",
              "    <tr>\n",
              "      <th>I just started watching The Show around July. I found it by mistake, I was channel surfing during a Vacation. It is a great show, I just wish it wasn't on so late at night. It's on at 12:30 AM. As a working person it makes it hard to watch all the time.&lt;br /&gt;&lt;br /&gt;I read some comments. I did not agree with the late one about not growing up in the 60's and not believing that this stuff can happen.&lt;br /&gt;&lt;br /&gt;I grew up in the 60's. I'm Hispanic and I had a \"White\" boyfriend plus we had black friends in High School. I believe people get along because of their interests and personalities and it has nothing to do with being a certain race or color.&lt;br /&gt;&lt;br /&gt;I can't wait till the show goes on DVD so I can buy it. This way I can see it from the beginning.</th>\n",
              "      <th>positive</th>\n",
              "      <td>1</td>\n",
              "    </tr>\n",
              "    <tr>\n",
              "      <th>I just wanted to say that. I love Gheorghe Muresan, so I automatically loved this movie. Everything else about it was so-so... Billy Crystal is a good actor, even if he is annoying. But the thing that made this movie was- at least, for a basketball fan- seeing Gheorghe Muresan act.</th>\n",
              "      <th>positive</th>\n",
              "      <td>1</td>\n",
              "    </tr>\n",
              "    <tr>\n",
              "      <th>I just wanted to write a quick response to all those people who give this film a bad review because they think it isn't funny or that it's boring. &lt;br /&gt;&lt;br /&gt;Here's the trick --- the film is not meant to be just a comedy. It's got some depth to it. Like many Demme films it deals with people living in some of the odd corners of our society who are trying to work out how to put together a fulfilling life for themselves. &lt;br /&gt;&lt;br /&gt;Unfortunately, the movie and home video industries don't deal well with subtlety and drop this in the \"COMEDY\" bin. It IS funny, but a lot of the humor is off-beat. However, the heart of the movie is not about the humor but about the people in it.&lt;br /&gt;&lt;br /&gt;It may not be one of the greatest films in the world but it is solid and entertaining. &lt;br /&gt;&lt;br /&gt;And the cast is one of those that shows why casting is an art unto itself. Michelle Pfieffer is great and this may be the film that showed she had some acting chops to add to her beauty. Mercedes Ruehl is a big hoot and gets to chew the scenery in the way only she can, in a role which requires it. Throw in Oliver Platt, Joan Cusack in smaller roles and the talented Dean Stockwell ... and even Chris Isaak and you've got a great cast throughout which here, as usual, makes a great difference.&lt;br /&gt;&lt;br /&gt;Matthew Modine is fun, but more important, he's a major hottie in this movie. Hot, cute and sexy.&lt;br /&gt;&lt;br /&gt;Sit back, expect the unexpected and let the movie take you where it wants to go and you should have a great time.</th>\n",
              "      <th>positive</th>\n",
              "      <td>1</td>\n",
              "    </tr>\n",
              "    <tr>\n",
              "      <th>I just watched The Convent for the second time. I had enjoyed it previously and figured it would make for a good drunken Friday night film, some gore, some style, bit of humour and suchlike. I was saddened to find that I could no longer appreciate it much. It seemed like someone had set out to revisit cheeseball epics like Night of the Demons for a modern audience but lost the things that made the original worthwhile. For the record I'm not even a huge fan of Night of the Demons, but there were some things I really dug about it. The Convent does the cheese but the not the goodness so much. Apart from the main girl (likeable performance from Joanna Canton), the goth girl and a sweet cameo from Adrienne Barbeau pretty much all the characters were excruciatingly unlikeable, festering at the absolute lowest levels of moronic, offensive jockhood. The film is then gravely hampered by the complete lack of gratuitous nudity which means that, given the awful dialogue, it is difficult to watch the characters and harder to appreciate the good points of the film. The evil nuns are original in design and get lots of good scenes, though not scary their certainly kinda cool, and the film also fields a fair amount of neat gore. Towards the end, when Adrienne Barbeau is on the scene the film becomes quite entertaining cause all the obnoxious people are dead and its an evil nun bashing frenzy. The stylised direction also occasionally yields good results, although sometimes the camera just moves too fast. All in all, this was a film where for me the shining good points just can't make up for the things I hated. Those more fond of this kind of film may well enjoy it a lot more, but for me it wasn't a good time.</th>\n",
              "      <th>negative</th>\n",
              "      <td>1</td>\n",
              "    </tr>\n",
              "    <tr>\n",
              "      <th>I just saw this movie at the Tribeca Film Festival and i have to say that i thought it was amazing. The combination of humor and sincerity really made the movie worthwhile. The movie was about a seventeen year-old boy whose mother and father are very religious. The seventeen year old, Ben, decides to work for a retired actress who teaches him about girls and driving and life. It is very comical and touching. I honestly have to say that it is now one of my favorite movies. I recommend this movie to anyone and everyone. If you didn't catch one of the showings at the film festival, it's supposed to come out in theaters later in the year. Please go see it! It is a great film.</th>\n",
              "      <th>positive</th>\n",
              "      <td>1</td>\n",
              "    </tr>\n",
              "  </tbody>\n",
              "</table>\n",
              "<p>10005 rows × 1 columns</p>\n",
              "</div><br><label><b>dtype:</b> int64</label>"
            ]
          },
          "metadata": {},
          "execution_count": 95
        }
      ]
    },
    {
      "cell_type": "code",
      "source": [
        "df.isnull().value_counts()"
      ],
      "metadata": {
        "colab": {
          "base_uri": "https://localhost:8080/",
          "height": 146
        },
        "id": "907ZCiSSs-l0",
        "outputId": "1ba412cc-3a90-4c72-9ff1-dba7756aad23"
      },
      "execution_count": null,
      "outputs": [
        {
          "output_type": "execute_result",
          "data": {
            "text/plain": [
              "review  sentiment\n",
              "False   False        10022\n",
              "Name: count, dtype: int64"
            ],
            "text/html": [
              "<div>\n",
              "<style scoped>\n",
              "    .dataframe tbody tr th:only-of-type {\n",
              "        vertical-align: middle;\n",
              "    }\n",
              "\n",
              "    .dataframe tbody tr th {\n",
              "        vertical-align: top;\n",
              "    }\n",
              "\n",
              "    .dataframe thead th {\n",
              "        text-align: right;\n",
              "    }\n",
              "</style>\n",
              "<table border=\"1\" class=\"dataframe\">\n",
              "  <thead>\n",
              "    <tr style=\"text-align: right;\">\n",
              "      <th></th>\n",
              "      <th></th>\n",
              "      <th>count</th>\n",
              "    </tr>\n",
              "    <tr>\n",
              "      <th>review</th>\n",
              "      <th>sentiment</th>\n",
              "      <th></th>\n",
              "    </tr>\n",
              "  </thead>\n",
              "  <tbody>\n",
              "    <tr>\n",
              "      <th>False</th>\n",
              "      <th>False</th>\n",
              "      <td>10022</td>\n",
              "    </tr>\n",
              "  </tbody>\n",
              "</table>\n",
              "</div><br><label><b>dtype:</b> int64</label>"
            ]
          },
          "metadata": {},
          "execution_count": 96
        }
      ]
    },
    {
      "cell_type": "markdown",
      "source": [
        "# data visulazition"
      ],
      "metadata": {
        "id": "EyJw4UhAtLIq"
      }
    },
    {
      "cell_type": "code",
      "source": [
        "plt.pie(df['sentiment'].value_counts(), labels=df['sentiment'].value_counts().index, autopct='%1.1f%%')"
      ],
      "metadata": {
        "colab": {
          "base_uri": "https://localhost:8080/",
          "height": 510
        },
        "id": "6prISRTitTnj",
        "outputId": "eb7d8b16-4f7a-45ee-fa1f-e39e4b017f6f"
      },
      "execution_count": null,
      "outputs": [
        {
          "output_type": "execute_result",
          "data": {
            "text/plain": [
              "([<matplotlib.patches.Wedge at 0x7df26f7886e0>,\n",
              "  <matplotlib.patches.Wedge at 0x7df26fd2ee40>],\n",
              " [Text(-0.009309920184527429, 1.099960601742698, 'positive'),\n",
              "  Text(0.009310147471662797, -1.0999605998189463, 'negative')],\n",
              " [Text(-0.005078138282469506, 0.5999785100414715, '50.3%'),\n",
              "  Text(0.0050782622572706155, -0.5999785089921524, '49.7%')])"
            ]
          },
          "metadata": {},
          "execution_count": 98
        },
        {
          "output_type": "display_data",
          "data": {
            "text/plain": [
              "<Figure size 640x480 with 1 Axes>"
            ],
            "image/png": "[encoded data removed]"
          },
          "metadata": {}
        }
      ]
    },
    {
      "cell_type": "markdown",
      "source": [
        "***# 2. Clean the reviews (remove HTML, punctuation, etc.)\n",
        "***"
      ],
      "metadata": {
        "id": "PJYe-4uYEJyq"
      }
    },
    {
      "cell_type": "code",
      "source": [
        "def clean_text(text):\n",
        "    text = re.sub('<.*?>', '', text)            # Remove HTML tags\n",
        "    text = re.sub('[^a-zA-Z]', ' ', text)       # Remove punctuation and digits\n",
        "    text = text.lower()                         # Lowercase\n",
        "    text = ' '.join(text.split())               # Remove extra whitespace\n",
        "    return text"
      ],
      "metadata": {
        "id": "PMT81fPBENBw"
      },
      "execution_count": null,
      "outputs": []
    },
    {
      "cell_type": "code",
      "source": [
        "df['clean_review'] = df['review'].apply(clean_text)"
      ],
      "metadata": {
        "id": "zfBMOb-OEUkn"
      },
      "execution_count": null,
      "outputs": []
    },
    {
      "cell_type": "code",
      "source": [
        "df['clean_review']"
      ],
      "metadata": {
        "colab": {
          "base_uri": "https://localhost:8080/",
          "height": 458
        },
        "id": "EAiKsq9XEXak",
        "outputId": "5f79e800-ce84-4fd8-dc6a-e7990c69f3b5"
      },
      "execution_count": null,
      "outputs": [
        {
          "output_type": "execute_result",
          "data": {
            "text/plain": [
              "0        one of the other reviewers has mentioned that ...\n",
              "1        a wonderful little production the filming tech...\n",
              "2        i thought this was a wonderful way to spend ti...\n",
              "3        basically there s a family where a little boy ...\n",
              "4        petter mattei s love in the time of money is a...\n",
              "                               ...                        \n",
              "10017    the story is incredible it begins with a new k...\n",
              "10018    ted danson was a great choice to play gulliver...\n",
              "10019    possible spoilers although done before and bet...\n",
              "10020    although i watched this film by myself thankfu...\n",
              "10021    did anyone else feel as betrayed as i did the ...\n",
              "Name: clean_review, Length: 10022, dtype: object"
            ],
            "text/html": [
              "<div>\n",
              "<style scoped>\n",
              "    .dataframe tbody tr th:only-of-type {\n",
              "        vertical-align: middle;\n",
              "    }\n",
              "\n",
              "    .dataframe tbody tr th {\n",
              "        vertical-align: top;\n",
              "    }\n",
              "\n",
              "    .dataframe thead th {\n",
              "        text-align: right;\n",
              "    }\n",
              "</style>\n",
              "<table border=\"1\" class=\"dataframe\">\n",
              "  <thead>\n",
              "    <tr style=\"text-align: right;\">\n",
              "      <th></th>\n",
              "      <th>clean_review</th>\n",
              "    </tr>\n",
              "  </thead>\n",
              "  <tbody>\n",
              "    <tr>\n",
              "      <th>0</th>\n",
              "      <td>one of the other reviewers has mentioned that ...</td>\n",
              "    </tr>\n",
              "    <tr>\n",
              "      <th>1</th>\n",
              "      <td>a wonderful little production the filming tech...</td>\n",
              "    </tr>\n",
              "    <tr>\n",
              "      <th>2</th>\n",
              "      <td>i thought this was a wonderful way to spend ti...</td>\n",
              "    </tr>\n",
              "    <tr>\n",
              "      <th>3</th>\n",
              "      <td>basically there s a family where a little boy ...</td>\n",
              "    </tr>\n",
              "    <tr>\n",
              "      <th>4</th>\n",
              "      <td>petter mattei s love in the time of money is a...</td>\n",
              "    </tr>\n",
              "    <tr>\n",
              "      <th>...</th>\n",
              "      <td>...</td>\n",
              "    </tr>\n",
              "    <tr>\n",
              "      <th>10017</th>\n",
              "      <td>the story is incredible it begins with a new k...</td>\n",
              "    </tr>\n",
              "    <tr>\n",
              "      <th>10018</th>\n",
              "      <td>ted danson was a great choice to play gulliver...</td>\n",
              "    </tr>\n",
              "    <tr>\n",
              "      <th>10019</th>\n",
              "      <td>possible spoilers although done before and bet...</td>\n",
              "    </tr>\n",
              "    <tr>\n",
              "      <th>10020</th>\n",
              "      <td>although i watched this film by myself thankfu...</td>\n",
              "    </tr>\n",
              "    <tr>\n",
              "      <th>10021</th>\n",
              "      <td>did anyone else feel as betrayed as i did the ...</td>\n",
              "    </tr>\n",
              "  </tbody>\n",
              "</table>\n",
              "<p>10022 rows × 1 columns</p>\n",
              "</div><br><label><b>dtype:</b> object</label>"
            ]
          },
          "metadata": {},
          "execution_count": 101
        }
      ]
    },
    {
      "cell_type": "markdown",
      "source": [
        "**# 3. Encode the target\n",
        "**"
      ],
      "metadata": {
        "id": "MArq6dNBEedK"
      }
    },
    {
      "cell_type": "code",
      "source": [
        "df['sentiment'] = df['sentiment'].map({'positive': 1, 'negative': 0})"
      ],
      "metadata": {
        "id": "F_ofq7X6EeBv"
      },
      "execution_count": null,
      "outputs": []
    },
    {
      "cell_type": "code",
      "source": [
        "df['sentiment']"
      ],
      "metadata": {
        "colab": {
          "base_uri": "https://localhost:8080/",
          "height": 458
        },
        "id": "hVXohALFEZXq",
        "outputId": "e58f6ff8-00a6-4758-8589-2c3afeea69c5"
      },
      "execution_count": null,
      "outputs": [
        {
          "output_type": "execute_result",
          "data": {
            "text/plain": [
              "0        1\n",
              "1        1\n",
              "2        1\n",
              "3        0\n",
              "4        1\n",
              "        ..\n",
              "10017    1\n",
              "10018    1\n",
              "10019    1\n",
              "10020    0\n",
              "10021    0\n",
              "Name: sentiment, Length: 10022, dtype: int64"
            ],
            "text/html": [
              "<div>\n",
              "<style scoped>\n",
              "    .dataframe tbody tr th:only-of-type {\n",
              "        vertical-align: middle;\n",
              "    }\n",
              "\n",
              "    .dataframe tbody tr th {\n",
              "        vertical-align: top;\n",
              "    }\n",
              "\n",
              "    .dataframe thead th {\n",
              "        text-align: right;\n",
              "    }\n",
              "</style>\n",
              "<table border=\"1\" class=\"dataframe\">\n",
              "  <thead>\n",
              "    <tr style=\"text-align: right;\">\n",
              "      <th></th>\n",
              "      <th>sentiment</th>\n",
              "    </tr>\n",
              "  </thead>\n",
              "  <tbody>\n",
              "    <tr>\n",
              "      <th>0</th>\n",
              "      <td>1</td>\n",
              "    </tr>\n",
              "    <tr>\n",
              "      <th>1</th>\n",
              "      <td>1</td>\n",
              "    </tr>\n",
              "    <tr>\n",
              "      <th>2</th>\n",
              "      <td>1</td>\n",
              "    </tr>\n",
              "    <tr>\n",
              "      <th>3</th>\n",
              "      <td>0</td>\n",
              "    </tr>\n",
              "    <tr>\n",
              "      <th>4</th>\n",
              "      <td>1</td>\n",
              "    </tr>\n",
              "    <tr>\n",
              "      <th>...</th>\n",
              "      <td>...</td>\n",
              "    </tr>\n",
              "    <tr>\n",
              "      <th>10017</th>\n",
              "      <td>1</td>\n",
              "    </tr>\n",
              "    <tr>\n",
              "      <th>10018</th>\n",
              "      <td>1</td>\n",
              "    </tr>\n",
              "    <tr>\n",
              "      <th>10019</th>\n",
              "      <td>1</td>\n",
              "    </tr>\n",
              "    <tr>\n",
              "      <th>10020</th>\n",
              "      <td>0</td>\n",
              "    </tr>\n",
              "    <tr>\n",
              "      <th>10021</th>\n",
              "      <td>0</td>\n",
              "    </tr>\n",
              "  </tbody>\n",
              "</table>\n",
              "<p>10022 rows × 1 columns</p>\n",
              "</div><br><label><b>dtype:</b> int64</label>"
            ]
          },
          "metadata": {},
          "execution_count": 103
        }
      ]
    },
    {
      "cell_type": "code",
      "source": [
        "from sklearn.model_selection import train_test_split"
      ],
      "metadata": {
        "id": "XGghy2zFEuLl"
      },
      "execution_count": null,
      "outputs": []
    },
    {
      "cell_type": "code",
      "source": [
        "X_train, X_test, y_train, y_test = train_test_split(df['clean_review'], df['sentiment'], test_size=0.2, random_state=42)"
      ],
      "metadata": {
        "id": "ZfvILC-JEmAI"
      },
      "execution_count": null,
      "outputs": []
    },
    {
      "cell_type": "code",
      "source": [
        "from sklearn.feature_extraction.text import TfidfVectorizer\n",
        "\n",
        "vectorizer = TfidfVectorizer(stop_words='english', max_features=10000)\n",
        "X_train_vec = vectorizer.fit_transform(X_train)\n",
        "X_test_vec = vectorizer.transform(X_test)"
      ],
      "metadata": {
        "id": "IA0ZJ8O-EqJd"
      },
      "execution_count": null,
      "outputs": []
    },
    {
      "cell_type": "markdown",
      "source": [
        "# **Model Training **"
      ],
      "metadata": {
        "id": "GnNrZGm-E9IW"
      }
    },
    {
      "cell_type": "code",
      "source": [
        "from sklearn.naive_bayes import MultinomialNB\n",
        "model = MultinomialNB()\n",
        "model.fit(X_train_vec, y_train)"
      ],
      "metadata": {
        "colab": {
          "base_uri": "https://localhost:8080/",
          "height": 80
        },
        "id": "ofRH6jouE1fK",
        "outputId": "8d103c29-b4fd-474f-f6f7-7eddcdbfc3be"
      },
      "execution_count": null,
      "outputs": [
        {
          "output_type": "execute_result",
          "data": {
            "text/plain": [
              "MultinomialNB()"
            ],
            "text/html": [
              "<style>#sk-container-id-1 {\n",
              "  /* Definition of color scheme common for light and dark mode */\n",
              "  --sklearn-color-text: #000;\n",
              "  --sklearn-color-text-muted: #666;\n",
              "  --sklearn-color-line: gray;\n",
              "  /* Definition of color scheme for unfitted estimators */\n",
              "  --sklearn-color-unfitted-level-0: #fff5e6;\n",
              "  --sklearn-color-unfitted-level-1: #f6e4d2;\n",
              "  --sklearn-color-unfitted-level-2: #ffe0b3;\n",
              "  --sklearn-color-unfitted-level-3: chocolate;\n",
              "  /* Definition of color scheme for fitted estimators */\n",
              "  --sklearn-color-fitted-level-0: #f0f8ff;\n",
              "  --sklearn-color-fitted-level-1: #d4ebff;\n",
              "  --sklearn-color-fitted-level-2: #b3dbfd;\n",
              "  --sklearn-color-fitted-level-3: cornflowerblue;\n",
              "\n",
              "  /* Specific color for light theme */\n",
              "  --sklearn-color-text-on-default-background: var(--sg-text-color, var(--theme-code-foreground, var(--jp-content-font-color1, black)));\n",
              "  --sklearn-color-background: var(--sg-background-color, var(--theme-background, var(--jp-layout-color0, white)));\n",
              "  --sklearn-color-border-box: var(--sg-text-color, var(--theme-code-foreground, var(--jp-content-font-color1, black)));\n",
              "  --sklearn-color-icon: #696969;\n",
              "\n",
              "  @media (prefers-color-scheme: dark) {\n",
              "    /* Redefinition of color scheme for dark theme */\n",
              "    --sklearn-color-text-on-default-background: var(--sg-text-color, var(--theme-code-foreground, var(--jp-content-font-color1, white)));\n",
              "    --sklearn-color-background: var(--sg-background-color, var(--theme-background, var(--jp-layout-color0, #111)));\n",
              "    --sklearn-color-border-box: var(--sg-text-color, var(--theme-code-foreground, var(--jp-content-font-color1, white)));\n",
              "    --sklearn-color-icon: #878787;\n",
              "  }\n",
              "}\n",
              "\n",
              "#sk-container-id-1 {\n",
              "  color: var(--sklearn-color-text);\n",
              "}\n",
              "\n",
              "#sk-container-id-1 pre {\n",
              "  padding: 0;\n",
              "}\n",
              "\n",
              "#sk-container-id-1 input.sk-hidden--visually {\n",
              "  border: 0;\n",
              "  clip: rect(1px 1px 1px 1px);\n",
              "  clip: rect(1px, 1px, 1px, 1px);\n",
              "  height: 1px;\n",
              "  margin: -1px;\n",
              "  overflow: hidden;\n",
              "  padding: 0;\n",
              "  position: absolute;\n",
              "  width: 1px;\n",
              "}\n",
              "\n",
              "#sk-container-id-1 div.sk-dashed-wrapped {\n",
              "  border: 1px dashed var(--sklearn-color-line);\n",
              "  margin: 0 0.4em 0.5em 0.4em;\n",
              "  box-sizing: border-box;\n",
              "  padding-bottom: 0.4em;\n",
              "  background-color: var(--sklearn-color-background);\n",
              "}\n",
              "\n",
              "#sk-container-id-1 div.sk-container {\n",
              "  /* jupyter's `normalize.less` sets `[hidden] { display: none; }`\n",
              "     but bootstrap.min.css set `[hidden] { display: none !important; }`\n",
              "     so we also need the `!important` here to be able to override the\n",
              "     default hidden behavior on the sphinx rendered scikit-learn.org.\n",
              "     See: https://github.com/scikit-learn/scikit-learn/issues/21755 */\n",
              "  display: inline-block !important;\n",
              "  position: relative;\n",
              "}\n",
              "\n",
              "#sk-container-id-1 div.sk-text-repr-fallback {\n",
              "  display: none;\n",
              "}\n",
              "\n",
              "div.sk-parallel-item,\n",
              "div.sk-serial,\n",
              "div.sk-item {\n",
              "  /* draw centered vertical line to link estimators */\n",
              "  background-image: linear-gradient(var(--sklearn-color-text-on-default-background), var(--sklearn-color-text-on-default-background));\n",
              "  background-size: 2px 100%;\n",
              "  background-repeat: no-repeat;\n",
              "  background-position: center center;\n",
              "}\n",
              "\n",
              "/* Parallel-specific style estimator block */\n",
              "\n",
              "#sk-container-id-1 div.sk-parallel-item::after {\n",
              "  content: \"\";\n",
              "  width: 100%;\n",
              "  border-bottom: 2px solid var(--sklearn-color-text-on-default-background);\n",
              "  flex-grow: 1;\n",
              "}\n",
              "\n",
              "#sk-container-id-1 div.sk-parallel {\n",
              "  display: flex;\n",
              "  align-items: stretch;\n",
              "  justify-content: center;\n",
              "  background-color: var(--sklearn-color-background);\n",
              "  position: relative;\n",
              "}\n",
              "\n",
              "#sk-container-id-1 div.sk-parallel-item {\n",
              "  display: flex;\n",
              "  flex-direction: column;\n",
              "}\n",
              "\n",
              "#sk-container-id-1 div.sk-parallel-item:first-child::after {\n",
              "  align-self: flex-end;\n",
              "  width: 50%;\n",
              "}\n",
              "\n",
              "#sk-container-id-1 div.sk-parallel-item:last-child::after {\n",
              "  align-self: flex-start;\n",
              "  width: 50%;\n",
              "}\n",
              "\n",
              "#sk-container-id-1 div.sk-parallel-item:only-child::after {\n",
              "  width: 0;\n",
              "}\n",
              "\n",
              "/* Serial-specific style estimator block */\n",
              "\n",
              "#sk-container-id-1 div.sk-serial {\n",
              "  display: flex;\n",
              "  flex-direction: column;\n",
              "  align-items: center;\n",
              "  background-color: var(--sklearn-color-background);\n",
              "  padding-right: 1em;\n",
              "  padding-left: 1em;\n",
              "}\n",
              "\n",
              "\n",
              "/* Toggleable style: style used for estimator/Pipeline/ColumnTransformer box that is\n",
              "clickable and can be expanded/collapsed.\n",
              "- Pipeline and ColumnTransformer use this feature and define the default style\n",
              "- Estimators will overwrite some part of the style using the `sk-estimator` class\n",
              "*/\n",
              "\n",
              "/* Pipeline and ColumnTransformer style (default) */\n",
              "\n",
              "#sk-container-id-1 div.sk-toggleable {\n",
              "  /* Default theme specific background. It is overwritten whether we have a\n",
              "  specific estimator or a Pipeline/ColumnTransformer */\n",
              "  background-color: var(--sklearn-color-background);\n",
              "}\n",
              "\n",
              "/* Toggleable label */\n",
              "#sk-container-id-1 label.sk-toggleable__label {\n",
              "  cursor: pointer;\n",
              "  display: flex;\n",
              "  width: 100%;\n",
              "  margin-bottom: 0;\n",
              "  padding: 0.5em;\n",
              "  box-sizing: border-box;\n",
              "  text-align: center;\n",
              "  align-items: start;\n",
              "  justify-content: space-between;\n",
              "  gap: 0.5em;\n",
              "}\n",
              "\n",
              "#sk-container-id-1 label.sk-toggleable__label .caption {\n",
              "  font-size: 0.6rem;\n",
              "  font-weight: lighter;\n",
              "  color: var(--sklearn-color-text-muted);\n",
              "}\n",
              "\n",
              "#sk-container-id-1 label.sk-toggleable__label-arrow:before {\n",
              "  /* Arrow on the left of the label */\n",
              "  content: \"▸\";\n",
              "  float: left;\n",
              "  margin-right: 0.25em;\n",
              "  color: var(--sklearn-color-icon);\n",
              "}\n",
              "\n",
              "#sk-container-id-1 label.sk-toggleable__label-arrow:hover:before {\n",
              "  color: var(--sklearn-color-text);\n",
              "}\n",
              "\n",
              "/* Toggleable content - dropdown */\n",
              "\n",
              "#sk-container-id-1 div.sk-toggleable__content {\n",
              "  max-height: 0;\n",
              "  max-width: 0;\n",
              "  overflow: hidden;\n",
              "  text-align: left;\n",
              "  /* unfitted */\n",
              "  background-color: var(--sklearn-color-unfitted-level-0);\n",
              "}\n",
              "\n",
              "#sk-container-id-1 div.sk-toggleable__content.fitted {\n",
              "  /* fitted */\n",
              "  background-color: var(--sklearn-color-fitted-level-0);\n",
              "}\n",
              "\n",
              "#sk-container-id-1 div.sk-toggleable__content pre {\n",
              "  margin: 0.2em;\n",
              "  border-radius: 0.25em;\n",
              "  color: var(--sklearn-color-text);\n",
              "  /* unfitted */\n",
              "  background-color: var(--sklearn-color-unfitted-level-0);\n",
              "}\n",
              "\n",
              "#sk-container-id-1 div.sk-toggleable__content.fitted pre {\n",
              "  /* unfitted */\n",
              "  background-color: var(--sklearn-color-fitted-level-0);\n",
              "}\n",
              "\n",
              "#sk-container-id-1 input.sk-toggleable__control:checked~div.sk-toggleable__content {\n",
              "  /* Expand drop-down */\n",
              "  max-height: 200px;\n",
              "  max-width: 100%;\n",
              "  overflow: auto;\n",
              "}\n",
              "\n",
              "#sk-container-id-1 input.sk-toggleable__control:checked~label.sk-toggleable__label-arrow:before {\n",
              "  content: \"▾\";\n",
              "}\n",
              "\n",
              "/* Pipeline/ColumnTransformer-specific style */\n",
              "\n",
              "#sk-container-id-1 div.sk-label input.sk-toggleable__control:checked~label.sk-toggleable__label {\n",
              "  color: var(--sklearn-color-text);\n",
              "  background-color: var(--sklearn-color-unfitted-level-2);\n",
              "}\n",
              "\n",
              "#sk-container-id-1 div.sk-label.fitted input.sk-toggleable__control:checked~label.sk-toggleable__label {\n",
              "  background-color: var(--sklearn-color-fitted-level-2);\n",
              "}\n",
              "\n",
              "/* Estimator-specific style */\n",
              "\n",
              "/* Colorize estimator box */\n",
              "#sk-container-id-1 div.sk-estimator input.sk-toggleable__control:checked~label.sk-toggleable__label {\n",
              "  /* unfitted */\n",
              "  background-color: var(--sklearn-color-unfitted-level-2);\n",
              "}\n",
              "\n",
              "#sk-container-id-1 div.sk-estimator.fitted input.sk-toggleable__control:checked~label.sk-toggleable__label {\n",
              "  /* fitted */\n",
              "  background-color: var(--sklearn-color-fitted-level-2);\n",
              "}\n",
              "\n",
              "#sk-container-id-1 div.sk-label label.sk-toggleable__label,\n",
              "#sk-container-id-1 div.sk-label label {\n",
              "  /* The background is the default theme color */\n",
              "  color: var(--sklearn-color-text-on-default-background);\n",
              "}\n",
              "\n",
              "/* On hover, darken the color of the background */\n",
              "#sk-container-id-1 div.sk-label:hover label.sk-toggleable__label {\n",
              "  color: var(--sklearn-color-text);\n",
              "  background-color: var(--sklearn-color-unfitted-level-2);\n",
              "}\n",
              "\n",
              "/* Label box, darken color on hover, fitted */\n",
              "#sk-container-id-1 div.sk-label.fitted:hover label.sk-toggleable__label.fitted {\n",
              "  color: var(--sklearn-color-text);\n",
              "  background-color: var(--sklearn-color-fitted-level-2);\n",
              "}\n",
              "\n",
              "/* Estimator label */\n",
              "\n",
              "#sk-container-id-1 div.sk-label label {\n",
              "  font-family: monospace;\n",
              "  font-weight: bold;\n",
              "  display: inline-block;\n",
              "  line-height: 1.2em;\n",
              "}\n",
              "\n",
              "#sk-container-id-1 div.sk-label-container {\n",
              "  text-align: center;\n",
              "}\n",
              "\n",
              "/* Estimator-specific */\n",
              "#sk-container-id-1 div.sk-estimator {\n",
              "  font-family: monospace;\n",
              "  border: 1px dotted var(--sklearn-color-border-box);\n",
              "  border-radius: 0.25em;\n",
              "  box-sizing: border-box;\n",
              "  margin-bottom: 0.5em;\n",
              "  /* unfitted */\n",
              "  background-color: var(--sklearn-color-unfitted-level-0);\n",
              "}\n",
              "\n",
              "#sk-container-id-1 div.sk-estimator.fitted {\n",
              "  /* fitted */\n",
              "  background-color: var(--sklearn-color-fitted-level-0);\n",
              "}\n",
              "\n",
              "/* on hover */\n",
              "#sk-container-id-1 div.sk-estimator:hover {\n",
              "  /* unfitted */\n",
              "  background-color: var(--sklearn-color-unfitted-level-2);\n",
              "}\n",
              "\n",
              "#sk-container-id-1 div.sk-estimator.fitted:hover {\n",
              "  /* fitted */\n",
              "  background-color: var(--sklearn-color-fitted-level-2);\n",
              "}\n",
              "\n",
              "/* Specification for estimator info (e.g. \"i\" and \"?\") */\n",
              "\n",
              "/* Common style for \"i\" and \"?\" */\n",
              "\n",
              ".sk-estimator-doc-link,\n",
              "a:link.sk-estimator-doc-link,\n",
              "a:visited.sk-estimator-doc-link {\n",
              "  float: right;\n",
              "  font-size: smaller;\n",
              "  line-height: 1em;\n",
              "  font-family: monospace;\n",
              "  background-color: var(--sklearn-color-background);\n",
              "  border-radius: 1em;\n",
              "  height: 1em;\n",
              "  width: 1em;\n",
              "  text-decoration: none !important;\n",
              "  margin-left: 0.5em;\n",
              "  text-align: center;\n",
              "  /* unfitted */\n",
              "  border: var(--sklearn-color-unfitted-level-1) 1pt solid;\n",
              "  color: var(--sklearn-color-unfitted-level-1);\n",
              "}\n",
              "\n",
              ".sk-estimator-doc-link.fitted,\n",
              "a:link.sk-estimator-doc-link.fitted,\n",
              "a:visited.sk-estimator-doc-link.fitted {\n",
              "  /* fitted */\n",
              "  border: var(--sklearn-color-fitted-level-1) 1pt solid;\n",
              "  color: var(--sklearn-color-fitted-level-1);\n",
              "}\n",
              "\n",
              "/* On hover */\n",
              "div.sk-estimator:hover .sk-estimator-doc-link:hover,\n",
              ".sk-estimator-doc-link:hover,\n",
              "div.sk-label-container:hover .sk-estimator-doc-link:hover,\n",
              ".sk-estimator-doc-link:hover {\n",
              "  /* unfitted */\n",
              "  background-color: var(--sklearn-color-unfitted-level-3);\n",
              "  color: var(--sklearn-color-background);\n",
              "  text-decoration: none;\n",
              "}\n",
              "\n",
              "div.sk-estimator.fitted:hover .sk-estimator-doc-link.fitted:hover,\n",
              ".sk-estimator-doc-link.fitted:hover,\n",
              "div.sk-label-container:hover .sk-estimator-doc-link.fitted:hover,\n",
              ".sk-estimator-doc-link.fitted:hover {\n",
              "  /* fitted */\n",
              "  background-color: var(--sklearn-color-fitted-level-3);\n",
              "  color: var(--sklearn-color-background);\n",
              "  text-decoration: none;\n",
              "}\n",
              "\n",
              "/* Span, style for the box shown on hovering the info icon */\n",
              ".sk-estimator-doc-link span {\n",
              "  display: none;\n",
              "  z-index: 9999;\n",
              "  position: relative;\n",
              "  font-weight: normal;\n",
              "  right: .2ex;\n",
              "  padding: .5ex;\n",
              "  margin: .5ex;\n",
              "  width: min-content;\n",
              "  min-width: 20ex;\n",
              "  max-width: 50ex;\n",
              "  color: var(--sklearn-color-text);\n",
              "  box-shadow: 2pt 2pt 4pt #999;\n",
              "  /* unfitted */\n",
              "  background: var(--sklearn-color-unfitted-level-0);\n",
              "  border: .5pt solid var(--sklearn-color-unfitted-level-3);\n",
              "}\n",
              "\n",
              ".sk-estimator-doc-link.fitted span {\n",
              "  /* fitted */\n",
              "  background: var(--sklearn-color-fitted-level-0);\n",
              "  border: var(--sklearn-color-fitted-level-3);\n",
              "}\n",
              "\n",
              ".sk-estimator-doc-link:hover span {\n",
              "  display: block;\n",
              "}\n",
              "\n",
              "/* \"?\"-specific style due to the `<a>` HTML tag */\n",
              "\n",
              "#sk-container-id-1 a.estimator_doc_link {\n",
              "  float: right;\n",
              "  font-size: 1rem;\n",
              "  line-height: 1em;\n",
              "  font-family: monospace;\n",
              "  background-color: var(--sklearn-color-background);\n",
              "  border-radius: 1rem;\n",
              "  height: 1rem;\n",
              "  width: 1rem;\n",
              "  text-decoration: none;\n",
              "  /* unfitted */\n",
              "  color: var(--sklearn-color-unfitted-level-1);\n",
              "  border: var(--sklearn-color-unfitted-level-1) 1pt solid;\n",
              "}\n",
              "\n",
              "#sk-container-id-1 a.estimator_doc_link.fitted {\n",
              "  /* fitted */\n",
              "  border: var(--sklearn-color-fitted-level-1) 1pt solid;\n",
              "  color: var(--sklearn-color-fitted-level-1);\n",
              "}\n",
              "\n",
              "/* On hover */\n",
              "#sk-container-id-1 a.estimator_doc_link:hover {\n",
              "  /* unfitted */\n",
              "  background-color: var(--sklearn-color-unfitted-level-3);\n",
              "  color: var(--sklearn-color-background);\n",
              "  text-decoration: none;\n",
              "}\n",
              "\n",
              "#sk-container-id-1 a.estimator_doc_link.fitted:hover {\n",
              "  /* fitted */\n",
              "  background-color: var(--sklearn-color-fitted-level-3);\n",
              "}\n",
              "</style><div id=\"sk-container-id-1\" class=\"sk-top-container\"><div class=\"sk-text-repr-fallback\"><pre>MultinomialNB()</pre><b>In a Jupyter environment, please rerun this cell to show the HTML representation or trust the notebook. <br />On GitHub, the HTML representation is unable to render, please try loading this page with nbviewer.org.</b></div><div class=\"sk-container\" hidden><div class=\"sk-item\"><div class=\"sk-estimator fitted sk-toggleable\"><input class=\"sk-toggleable__control sk-hidden--visually\" id=\"sk-estimator-id-1\" type=\"checkbox\" checked><label for=\"sk-estimator-id-1\" class=\"sk-toggleable__label fitted sk-toggleable__label-arrow\"><div><div>MultinomialNB</div></div><div><a class=\"sk-estimator-doc-link fitted\" rel=\"noreferrer\" target=\"_blank\" href=\"https://scikit-learn.org/1.6/modules/generated/sklearn.naive_bayes.MultinomialNB.html\">?<span>Documentation for MultinomialNB</span></a><span class=\"sk-estimator-doc-link fitted\">i<span>Fitted</span></span></div></label><div class=\"sk-toggleable__content fitted\"><pre>MultinomialNB()</pre></div> </div></div></div></div>"
            ]
          },
          "metadata": {},
          "execution_count": 110
        }
      ]
    },
    {
      "cell_type": "code",
      "source": [
        "from sklearn.metrics import accuracy_score, classification_report\n",
        "\n",
        "y_pred = model.predict(X_test_vec)\n",
        "print(\"Accuracy:\", accuracy_score(y_test, y_pred))\n",
        "print(classification_report(y_test, y_pred))"
      ],
      "metadata": {
        "colab": {
          "base_uri": "https://localhost:8080/"
        },
        "id": "4W7vbRo5E8Hb",
        "outputId": "b3731d0c-38dc-4e08-d272-3724b8fbba7c"
      },
      "execution_count": null,
      "outputs": [
        {
          "output_type": "stream",
          "name": "stdout",
          "text": [
            "Accuracy: 0.8518703241895261\n",
            "              precision    recall  f1-score   support\n",
            "\n",
            "           0       0.85      0.86      0.85      1020\n",
            "           1       0.85      0.85      0.85       985\n",
            "\n",
            "    accuracy                           0.85      2005\n",
            "   macro avg       0.85      0.85      0.85      2005\n",
            "weighted avg       0.85      0.85      0.85      2005\n",
            "\n"
          ]
        }
      ]
    },
    {
      "cell_type": "code",
      "source": [],
      "metadata": {
        "id": "GTsS459MFReC"
      },
      "execution_count": null,
      "outputs": []
    },
    {
      "cell_type": "markdown",
      "source": [
        "# **  Using CountVectorizer**"
      ],
      "metadata": {
        "id": "wLhtho5ZFkKp"
      }
    },
    {
      "cell_type": "code",
      "source": [
        "from sklearn.feature_extraction.text import CountVectorizer\n",
        "from sklearn.linear_model import LogisticRegression\n",
        "\n",
        "vectorizer = CountVectorizer(stop_words='english', max_features=10000)\n",
        "X_train_vec = vectorizer.fit_transform(X_train)\n",
        "X_test_vec = vectorizer.transform(X_test)\n",
        "\n",
        "clf = LogisticRegression(max_iter=200)\n",
        "clf.fit(X_train_vec, y_train)\n",
        "y_pred = clf.predict(X_test_vec)\n"
      ],
      "metadata": {
        "id": "DYvLAQcSFn-5"
      },
      "execution_count": null,
      "outputs": []
    },
    {
      "cell_type": "code",
      "source": [
        "y_pred"
      ],
      "metadata": {
        "colab": {
          "base_uri": "https://localhost:8080/"
        },
        "id": "4bM_j0mPFrIY",
        "outputId": "a759691c-1bb1-4479-f28c-abd8cc3d3d42"
      },
      "execution_count": null,
      "outputs": [
        {
          "output_type": "execute_result",
          "data": {
            "text/plain": [
              "array([0, 1, 1, ..., 1, 1, 1])"
            ]
          },
          "metadata": {},
          "execution_count": 115
        }
      ]
    },
    {
      "cell_type": "code",
      "source": [
        "X_train_vec.toarray()"
      ],
      "metadata": {
        "colab": {
          "base_uri": "https://localhost:8080/"
        },
        "id": "UeDlCjU0FuOK",
        "outputId": "2b7c528e-6060-4760-dea2-a9cf3210cbf1"
      },
      "execution_count": null,
      "outputs": [
        {
          "output_type": "execute_result",
          "data": {
            "text/plain": [
              "array([[0, 0, 0, ..., 0, 0, 0],\n",
              "       [0, 0, 0, ..., 0, 0, 0],\n",
              "       [0, 0, 0, ..., 0, 0, 0],\n",
              "       ...,\n",
              "       [0, 0, 0, ..., 0, 0, 0],\n",
              "       [0, 0, 0, ..., 0, 0, 0],\n",
              "       [0, 0, 0, ..., 0, 0, 0]])"
            ]
          },
          "metadata": {},
          "execution_count": 117
        }
      ]
    },
    {
      "cell_type": "markdown",
      "source": [
        "# *** Using RandomForest Classifier***"
      ],
      "metadata": {
        "id": "JGRrODI8F34k"
      }
    },
    {
      "cell_type": "code",
      "source": [
        "from sklearn.ensemble import RandomForestClassifier\n",
        "\n",
        "rf = RandomForestClassifier(n_estimators=100)\n",
        "rf.fit(X_train_vec, y_train)\n",
        "y_pred_rf = rf.predict(X_test_vec)\n"
      ],
      "metadata": {
        "id": "QszCF-KJF8aB"
      },
      "execution_count": null,
      "outputs": []
    },
    {
      "cell_type": "code",
      "source": [
        "y_pred_rf"
      ],
      "metadata": {
        "colab": {
          "base_uri": "https://localhost:8080/"
        },
        "id": "43owc4k6F-29",
        "outputId": "7ae6d50c-7988-4bcb-ef95-5fc54b2582f0"
      },
      "execution_count": null,
      "outputs": [
        {
          "output_type": "execute_result",
          "data": {
            "text/plain": [
              "array([0, 1, 1, ..., 1, 1, 1])"
            ]
          },
          "metadata": {},
          "execution_count": 119
        }
      ]
    },
    {
      "cell_type": "markdown",
      "source": [
        "**calculate the accuray rate\n",
        "**"
      ],
      "metadata": {
        "id": "6pW4NeLEGWAu"
      }
    },
    {
      "cell_type": "code",
      "source": [
        "accuracy_lr = accuracy_score(y_test, y_pred)\n",
        "accuracy_rf = accuracy_score(y_test, y_pred_rf)"
      ],
      "metadata": {
        "id": "U62NpnxcGDPN"
      },
      "execution_count": null,
      "outputs": []
    },
    {
      "cell_type": "code",
      "source": [
        "print(\"the accuray rate of logsitics regression \",accuracy_lr)"
      ],
      "metadata": {
        "colab": {
          "base_uri": "https://localhost:8080/"
        },
        "id": "Z0FmIXaWGVS6",
        "outputId": "27c6b291-8303-485a-e9b7-9aae355d36bc"
      },
      "execution_count": null,
      "outputs": [
        {
          "output_type": "stream",
          "name": "stdout",
          "text": [
            "the accuray rate of logsitics regression  0.859351620947631\n"
          ]
        }
      ]
    },
    {
      "cell_type": "code",
      "source": [
        "print(\"the accuray rate of random forest  \",accuracy_rf)"
      ],
      "metadata": {
        "colab": {
          "base_uri": "https://localhost:8080/"
        },
        "id": "km7a6YuUGtns",
        "outputId": "059a30a0-077a-4994-8f48-6b00044351ef"
      },
      "execution_count": null,
      "outputs": [
        {
          "output_type": "stream",
          "name": "stdout",
          "text": [
            "the accuray rate of random forest   0.8528678304239401\n"
          ]
        }
      ]
    },
    {
      "cell_type": "code",
      "source": [
        "from sklearn.neighbors import KNeighborsClassifier\n",
        "from sklearn.naive_bayes import MultinomialNB\n",
        "from sklearn.metrics import accuracy_score, classification_report"
      ],
      "metadata": {
        "id": "UZnvRlZJG13A"
      },
      "execution_count": null,
      "outputs": []
    },
    {
      "cell_type": "code",
      "source": [
        "knn_model = KNeighborsClassifier(n_neighbors=5)\n",
        "knn_model.fit(X_train_vec, y_train)\n",
        "y_pred_knn = knn_model.predict(X_test_vec)"
      ],
      "metadata": {
        "id": "2erctpQoHKUF"
      },
      "execution_count": null,
      "outputs": []
    },
    {
      "cell_type": "code",
      "source": [
        "y_pred_knn"
      ],
      "metadata": {
        "colab": {
          "base_uri": "https://localhost:8080/"
        },
        "id": "_MRhsZinHP6A",
        "outputId": "1e806d9b-ee33-414e-ecf2-56cec8721937"
      },
      "execution_count": null,
      "outputs": [
        {
          "output_type": "execute_result",
          "data": {
            "text/plain": [
              "array([0, 1, 1, ..., 1, 1, 0])"
            ]
          },
          "metadata": {},
          "execution_count": 127
        }
      ]
    },
    {
      "cell_type": "code",
      "source": [
        "nb_model = MultinomialNB()\n",
        "nb_model.fit(X_train_vec, y_train)\n",
        "y_pred_nb = nb_model.predict(X_train_vec)"
      ],
      "metadata": {
        "id": "QrMMKY8RHUk0"
      },
      "execution_count": null,
      "outputs": []
    },
    {
      "cell_type": "code",
      "source": [
        "y_pred_nb"
      ],
      "metadata": {
        "colab": {
          "base_uri": "https://localhost:8080/"
        },
        "id": "BWzhyU6RHbLi",
        "outputId": "cc955afd-0d0f-4ab2-a8d9-cfb7d2d8aab6"
      },
      "execution_count": null,
      "outputs": [
        {
          "output_type": "execute_result",
          "data": {
            "text/plain": [
              "array([0, 1, 0, ..., 0, 1, 0])"
            ]
          },
          "metadata": {},
          "execution_count": 129
        }
      ]
    },
    {
      "cell_type": "code",
      "source": [
        "from sklearn.metrics import accuracy_score, classification_report, confusion_matrix\n",
        "\n",
        "accuracy = accuracy_score(y_test, y_pred)\n",
        "print(\"Accuracy:\", accuracy)\n",
        "\n",
        "print(\"Classification Report:\")\n",
        "print(classification_report(y_test, y_pred))\n",
        "\n",
        "print(\"Confusion Matrix:\")\n",
        "print(confusion_matrix(y_test, y_pred))\n"
      ],
      "metadata": {
        "colab": {
          "base_uri": "https://localhost:8080/"
        },
        "id": "1XqS4oOdHcge",
        "outputId": "b7a916b3-fb17-4520-d7e1-9b92b13bed49"
      },
      "execution_count": null,
      "outputs": [
        {
          "output_type": "stream",
          "name": "stdout",
          "text": [
            "Accuracy: 0.859351620947631\n",
            "Classification Report:\n",
            "              precision    recall  f1-score   support\n",
            "\n",
            "           0       0.87      0.85      0.86      1020\n",
            "           1       0.85      0.87      0.86       985\n",
            "\n",
            "    accuracy                           0.86      2005\n",
            "   macro avg       0.86      0.86      0.86      2005\n",
            "weighted avg       0.86      0.86      0.86      2005\n",
            "\n",
            "Confusion Matrix:\n",
            "[[868 152]\n",
            " [130 855]]\n"
          ]
        }
      ]
    },
    {
      "cell_type": "code",
      "source": [
        "import pickle\n",
        "\n",
        "# Save model\n",
        "with open('model.pkl', 'wb') as model_file:\n",
        "    pickle.dump(model, model_file)\n",
        "\n",
        "# Save vectorizer\n",
        "with open('vectorizer.pkl', 'wb') as vectorizer_file:\n",
        "    pickle.dump(vectorizer, vectorizer_file)\n",
        "\n",
        "# Load model\n",
        "with open('model.pkl', 'rb') as model_file:\n",
        "    loaded_model = pickle.load(model_file)\n",
        "\n",
        "# Load vectorizer\n",
        "with open('vectorizer.pkl', 'rb') as vectorizer_file:\n",
        "    loaded_vectorizer = pickle.load(vectorizer_file)"
      ],
      "metadata": {
        "id": "WQj7bRurIaMc"
      },
      "execution_count": null,
      "outputs": []
    }
  ],
  "metadata": {
    "colab": {
      "provenance": []
    },
    "kernelspec": {
      "display_name": "Python 3",
      "name": "python3"
    }
  },
  "nbformat": 4,
  "nbformat_minor": 0
}